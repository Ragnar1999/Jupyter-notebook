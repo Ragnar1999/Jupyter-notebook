{
    "nbformat_minor": 1, 
    "cells": [
        {
            "source": "#  **My Jupyter Notebook on IBM Data Science Experience**", 
            "cell_type": "markdown", 
            "metadata": {
                "collapsed": true
            }
        }, 
        {
            "source": "*Zhan Shi Ragnar*\n", 
            "cell_type": "markdown", 
            "metadata": {}
        }, 
        {
            "source": "Applied Mathematics    I want to be a financial analysist in the future.", 
            "cell_type": "markdown", 
            "metadata": {}
        }, 
        {
            "source": "_I am interested in data science because it is useful in our daily life to address problems._", 
            "cell_type": "markdown", 
            "metadata": {}
        }, 
        {
            "source": "###  Calculate the sum of 1 plus 1", 
            "cell_type": "markdown", 
            "metadata": {}
        }, 
        {
            "execution_count": 1, 
            "cell_type": "code", 
            "metadata": {}, 
            "outputs": [
                {
                    "execution_count": 1, 
                    "metadata": {}, 
                    "data": {
                        "text/plain": "2"
                    }, 
                    "output_type": "execute_result"
                }
            ], 
            "source": "1+1\n"
        }, 
        {
            "source": "> My favorite movie is Harry Potter.\nQuote break.", 
            "cell_type": "markdown", 
            "metadata": {}
        }, 
        {
            "source": "| Tables        | Are           | Cool  |\n| ------------- |:-------------:| -----:|\n| col 3 is      | right-aligned | $1600 |\n| col 2 is      | centered      |   $12 |\n| zebra stripes | are neat      |    $1 |\n", 
            "cell_type": "markdown", 
            "metadata": {}
        }, 
        {
            "source": "Inline-style: \n![alt text](https://github.com/adam-p/markdown-here/raw/master/src/common/images/icon48.png \"Logo Title Text 1\")", 
            "cell_type": "markdown", 
            "metadata": {}
        }, 
        {
            "source": "```javascript\nvar s = \"JavaScript syntax highlighting\";\nalert(s);\n```", 
            "cell_type": "markdown", 
            "metadata": {}
        }, 
        {
            "execution_count": null, 
            "cell_type": "code", 
            "metadata": {}, 
            "outputs": [], 
            "source": ""
        }
    ], 
    "metadata": {
        "kernelspec": {
            "display_name": "Python 3.6", 
            "name": "python3", 
            "language": "python"
        }, 
        "language_info": {
            "mimetype": "text/x-python", 
            "nbconvert_exporter": "python", 
            "version": "3.6.8", 
            "name": "python", 
            "file_extension": ".py", 
            "pygments_lexer": "ipython3", 
            "codemirror_mode": {
                "version": 3, 
                "name": "ipython"
            }
        }
    }, 
    "nbformat": 4
}